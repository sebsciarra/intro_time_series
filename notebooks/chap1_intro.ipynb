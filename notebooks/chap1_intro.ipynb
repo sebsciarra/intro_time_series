{
 "cells": [
  {
   "cell_type": "code",
   "execution_count": 3,
   "id": "7dcfff1a",
   "metadata": {},
   "outputs": [
    {
     "name": "stdout",
     "output_type": "stream",
     "text": [
      "The autoreload extension is already loaded. To reload it, use:\n",
      "  %reload_ext autoreload\n"
     ]
    }
   ],
   "source": [
    "import os\n",
    "from functools import partial\n",
    "\n",
    "import pandas as pd\n",
    "import numpy as np\n",
    "import matplotlib.pyplot as plt\n",
    "from statsforecast import StatsForecast\n",
    "from statsforecast.models import AutoETS\n",
    "from statsmodels.tsa.seasonal import seasonal_decompose\n",
    "\n",
    "from utilsforecast.evaluation import evaluate\n",
    "from utilsforecast.losses import rmse, mae, mape, mase\n",
    "from IPython.core.interactiveshell import InteractiveShell\n",
    "InteractiveShell.ast_node_interactivity = \"all\"\n",
    "\n",
    "from IPython.display import display, Markdown, Image\n",
    "\n",
    "from fpppy.utils import plot_series\n",
    "\n",
    "# endregion \n",
    "from plotnine import *\n",
    "\n",
    "# change working directory \n",
    "# Check if current directory has any .ipynb files\n",
    "if any(fname.endswith(\".ipynb\") for fname in os.listdir()):\n",
    "    os.chdir(\"..\")\n",
    "\n",
    "# load local package modules\n",
    "\n",
    "%load_ext autoreload\n",
    "%autoreload 2"
   ]
  },
  {
   "cell_type": "markdown",
   "id": "5529bbfa",
   "metadata": {},
   "source": [
    "## 1.3. Some simpler time series models"
   ]
  },
  {
   "cell_type": "markdown",
   "id": "04244715",
   "metadata": {},
   "source": [
    "Technically, a **time series model** provides a complete probabilistic model  that specifies all the joint distributions of random vectors ($X_1, ..., X_n$). That is, the probability at each *n* time point that the variable ($X_n$) would be less than or equal to any possible value of $- \\infty < x_1, ..., x_n < \\infty$. Mathematically, \n",
    "\n",
    "$$\n",
    "P[X_1 \\le x_1,..., X_n \\le x_n], \\infty < x_1, ..., x_n < \\infty. n=, 1,2,...\n",
    "$$\n",
    "\n",
    "Because this is not practically feasible, only the mean and variance of the joint distributions are modelled (i..e, second-order properties). The theory of minimium mean sqare errors justifies use of second-order properties and guarantees that little information is lost. "
   ]
  },
  {
   "cell_type": "code",
   "execution_count": null,
   "id": "a2f58e5a",
   "metadata": {},
   "outputs": [],
   "source": [
    "### "
   ]
  }
 ],
 "metadata": {
  "kernelspec": {
   "display_name": "base",
   "language": "python",
   "name": "python3"
  },
  "language_info": {
   "codemirror_mode": {
    "name": "ipython",
    "version": 3
   },
   "file_extension": ".py",
   "mimetype": "text/x-python",
   "name": "python",
   "nbconvert_exporter": "python",
   "pygments_lexer": "ipython3",
   "version": "3.13.5"
  }
 },
 "nbformat": 4,
 "nbformat_minor": 5
}
